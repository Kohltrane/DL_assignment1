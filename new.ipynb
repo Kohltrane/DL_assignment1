{
 "cells": [
  {
   "cell_type": "code",
   "execution_count": 77,
   "metadata": {},
   "outputs": [],
   "source": [
    "import torch\n",
    "import numpy as np\n",
    "from torch.utils.data import Dataset, DataLoader\n",
    "from torchvision import transforms\n",
    "from PIL import Image\n",
    "import os\n",
    "import matplotlib.pyplot as plt\n",
    "from sklearn.model_selection import train_test_split"
   ]
  },
  {
   "cell_type": "code",
   "execution_count": 78,
   "metadata": {},
   "outputs": [],
   "source": [
    "image_dir = '/Users/shreyasmishra/Documents/MLCode/CV/Project Task 1/train_data'\n",
    "label_file = '/Users/shreyasmishra/Documents/MLCode/CV/Project Task 1/train_labels.txt'"
   ]
  },
  {
   "cell_type": "code",
   "execution_count": 79,
   "metadata": {},
   "outputs": [],
   "source": [
    "class ImageDataset(Dataset):\n",
    "    def __init__(self, image_dir, label_file, num_classes = 60, transform=None):\n",
    "        self.image_dir = image_dir\n",
    "        self.transform = transform\n",
    "        self.num_classes = num_classes\n",
    "        self.image_filenames = [f for f in sorted(os.listdir(image_dir)) if f.endswith('.jpg')]  \n",
    "        self.labels = self.load_labels(label_file)\n",
    "    \n",
    "    def load_labels(self, label_file):\n",
    "        with open(label_file, 'r') as f:\n",
    "            labels = [int(line.strip()) for line in f]  \n",
    "        return labels\n",
    "\n",
    "    def one_hot_encode(self, label):\n",
    "        # One-hot encode the label\n",
    "        return torch.nn.functional.one_hot(torch.tensor(label), num_classes=self.num_classes)\n",
    "    \n",
    "    def __len__(self):\n",
    "        return len(self.image_filenames)\n",
    "    \n",
    "    def __getitem__(self, idx):\n",
    "        img_path = os.path.join(self.image_dir, self.image_filenames[idx])\n",
    "        label = self.labels[idx]\n",
    "        \n",
    "        image = Image.open(img_path).convert(\"RGB\")\n",
    "        \n",
    "        if self.transform:\n",
    "            image = self.transform(image)\n",
    "        \n",
    "        one_hot_label = self.one_hot_encode(label - 1)\n",
    "        \n",
    "        return image, one_hot_label"
   ]
  },
  {
   "cell_type": "code",
   "execution_count": 80,
   "metadata": {},
   "outputs": [],
   "source": [
    "dataset = ImageDataset(image_dir=image_dir, label_file=label_file, num_classes=60, transform=transforms.ToTensor())\n"
   ]
  },
  {
   "cell_type": "code",
   "execution_count": 81,
   "metadata": {},
   "outputs": [],
   "source": [
    "all_images = []\n",
    "all_labels = []\n",
    "for img, label in dataset:\n",
    "    all_images.append(img.numpy().flatten())  # Flatten 256x256 image to 1D array\n",
    "    all_labels.append(torch.argmax(label).item()) \n",
    "\n",
    "all_images = np.array(all_images)\n",
    "all_labels = np.array(all_labels)\n",
    "\n",
    "X_train, X_val, y_train, y_val = train_test_split(all_images, all_labels, test_size=0.2, random_state=42)\n"
   ]
  },
  {
   "cell_type": "code",
   "execution_count": 82,
   "metadata": {},
   "outputs": [],
   "source": [
    "pca = PCA(n_components=100)  # Reduce to 100 principal components\n",
    "X_train_pca = pca.fit_transform(X_train)\n",
    "X_val_pca = pca.transform(X_val)\n",
    "\n",
    "# Convert to PyTorch tensors\n",
    "X_train_pca = torch.tensor(X_train_pca, dtype=torch.float32)\n",
    "y_train = torch.tensor(y_train, dtype=torch.long)\n",
    "X_val_pca = torch.tensor(X_val_pca, dtype=torch.float32)\n",
    "y_val = torch.tensor(y_val, dtype=torch.long)"
   ]
  },
  {
   "cell_type": "code",
   "execution_count": 83,
   "metadata": {},
   "outputs": [],
   "source": [
    "train_dataset = torch.utils.data.TensorDataset(X_train_pca, y_train)\n",
    "val_dataset = torch.utils.data.TensorDataset(X_val_pca, y_val)\n",
    "\n",
    "train_loader = DataLoader(train_dataset, batch_size=8, shuffle=True)\n",
    "val_loader = DataLoader(val_dataset, batch_size=8, shuffle=False)"
   ]
  },
  {
   "cell_type": "code",
   "execution_count": 84,
   "metadata": {},
   "outputs": [],
   "source": [
    "class ANN(nn.Module):\n",
    "    def __init__(self, input_dim, output_dim):\n",
    "        super(ANN, self).__init__()\n",
    "        self.fc1 = nn.Linear(input_dim, 128)  # Fully connected layer 1\n",
    "        self.fc2 = nn.Linear(128, 64)        # Fully connected layer 2\n",
    "        self.fc3 = nn.Linear(64, output_dim) # Output layer\n",
    "        self.relu = nn.ReLU()\n",
    "    \n",
    "    def forward(self, x):\n",
    "        x = self.relu(self.fc1(x))  # ReLU after first linear layer\n",
    "        x = self.relu(self.fc2(x))  # ReLU after second linear layer\n",
    "        x = self.fc3(x)             # No activation for the final layer\n",
    "        return x"
   ]
  },
  {
   "cell_type": "code",
   "execution_count": 85,
   "metadata": {},
   "outputs": [],
   "source": [
    "input_dim = 100  # Number of PCA components\n",
    "output_dim = len(np.unique(all_labels))  # Number of classes (60 in this case)\n",
    "model = ANN(input_dim, output_dim)\n",
    "\n",
    "# Loss and optimizer\n",
    "criterion = nn.CrossEntropyLoss()  # Multi-class classification\n",
    "optimizer = torch.optim.SGD(model.parameters(), lr=0.001, momentum = 0.9)\n"
   ]
  },
  {
   "cell_type": "code",
   "execution_count": 86,
   "metadata": {},
   "outputs": [
    {
     "name": "stdout",
     "output_type": "stream",
     "text": [
      "Epoch 1/10, Loss: 3.7385, Validation Accuracy: 17.33%\n",
      "Epoch 2/10, Loss: 2.8902, Validation Accuracy: 25.17%\n",
      "Epoch 3/10, Loss: 2.4390, Validation Accuracy: 29.33%\n",
      "Epoch 4/10, Loss: 2.1562, Validation Accuracy: 29.17%\n",
      "Epoch 5/10, Loss: 1.8659, Validation Accuracy: 30.17%\n",
      "Epoch 6/10, Loss: 1.6573, Validation Accuracy: 30.83%\n",
      "Epoch 7/10, Loss: 1.4441, Validation Accuracy: 32.67%\n",
      "Epoch 8/10, Loss: 1.2696, Validation Accuracy: 33.33%\n",
      "Epoch 9/10, Loss: 1.0842, Validation Accuracy: 33.00%\n",
      "Epoch 10/10, Loss: 0.9031, Validation Accuracy: 34.17%\n"
     ]
    }
   ],
   "source": [
    "def train(model, train_loader, val_loader, criterion, optimizer, epochs=10):\n",
    "    for epoch in range(epochs):\n",
    "        model.train()\n",
    "        running_loss = 0.0\n",
    "        \n",
    "        # Training\n",
    "        for inputs, labels in train_loader:\n",
    "            optimizer.zero_grad()  # Clear gradients\n",
    "            \n",
    "            outputs = model(inputs)  # Forward pass\n",
    "            loss = criterion(outputs, labels)  # Compute loss\n",
    "            loss.backward()  # Backpropagation\n",
    "            optimizer.step()  # Update weights\n",
    "            \n",
    "            running_loss += loss.item()\n",
    "        \n",
    "        # Validation\n",
    "        model.eval()\n",
    "        correct = 0\n",
    "        total = 0\n",
    "        with torch.no_grad():\n",
    "            for inputs, labels in val_loader:\n",
    "                outputs = model(inputs)\n",
    "                _, predicted = torch.max(outputs, 1)\n",
    "                total += labels.size(0)\n",
    "                correct += (predicted == labels).sum().item()\n",
    "        \n",
    "        accuracy = 100 * correct / total\n",
    "        print(f'Epoch {epoch+1}/{epochs}, Loss: {running_loss/len(train_loader):.4f}, Validation Accuracy: {accuracy:.2f}%')\n",
    "\n",
    "# Train the model\n",
    "train(model, train_loader, val_loader, criterion, optimizer, epochs=10)"
   ]
  }
 ],
 "metadata": {
  "kernelspec": {
   "display_name": "cv",
   "language": "python",
   "name": "python3"
  },
  "language_info": {
   "codemirror_mode": {
    "name": "ipython",
    "version": 3
   },
   "file_extension": ".py",
   "mimetype": "text/x-python",
   "name": "python",
   "nbconvert_exporter": "python",
   "pygments_lexer": "ipython3",
   "version": "3.11.4"
  }
 },
 "nbformat": 4,
 "nbformat_minor": 2
}
