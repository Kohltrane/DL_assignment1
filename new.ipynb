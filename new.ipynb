{
 "cells": [
  {
   "cell_type": "code",
   "execution_count": 157,
   "metadata": {},
   "outputs": [],
   "source": [
    "import torch\n",
    "import numpy as np\n",
    "from torch.utils.data import Dataset, DataLoader\n",
    "from torchvision import transforms\n",
    "from PIL import Image\n",
    "import os\n",
    "import matplotlib.pyplot as plt\n",
    "from sklearn.model_selection import train_test_split"
   ]
  },
  {
   "cell_type": "code",
   "execution_count": 158,
   "metadata": {},
   "outputs": [],
   "source": [
    "image_dir = '/Users/shreyasmishra/Documents/MLCode/CV/Project Task 1/train_data'\n",
    "label_file = '/Users/shreyasmishra/Documents/MLCode/CV/Project Task 1/train_labels.txt'"
   ]
  },
  {
   "cell_type": "code",
   "execution_count": 159,
   "metadata": {},
   "outputs": [],
   "source": [
    "class ImageDataset(Dataset):\n",
    "    def __init__(self, image_dir, label_file, num_classes = 60, transform=None):\n",
    "        self.image_dir = image_dir\n",
    "        self.transform = transform\n",
    "        self.num_classes = num_classes\n",
    "        self.image_filenames = [f for f in sorted(os.listdir(image_dir)) if f.endswith('.jpg')]  \n",
    "        self.labels = self.load_labels(label_file)\n",
    "    \n",
    "    def load_labels(self, label_file):\n",
    "        with open(label_file, 'r') as f:\n",
    "            labels = [int(line.strip()) for line in f]  \n",
    "        return labels\n",
    "\n",
    "    def one_hot_encode(self, label):\n",
    "        # One-hot encode the label\n",
    "        return torch.nn.functional.one_hot(torch.tensor(label), num_classes=self.num_classes)\n",
    "    \n",
    "    def __len__(self):\n",
    "        return len(self.image_filenames)\n",
    "    \n",
    "    def __getitem__(self, idx):\n",
    "        img_path = os.path.join(self.image_dir, self.image_filenames[idx])\n",
    "        label = self.labels[idx]\n",
    "        \n",
    "        image = Image.open(img_path).convert(\"RGB\")\n",
    "        \n",
    "        if self.transform:\n",
    "            image = self.transform(image)\n",
    "        \n",
    "        one_hot_label = self.one_hot_encode(label - 1)\n",
    "        \n",
    "        return image, one_hot_label"
   ]
  },
  {
   "cell_type": "code",
   "execution_count": 160,
   "metadata": {},
   "outputs": [],
   "source": [
    "dataset = ImageDataset(image_dir=image_dir, label_file=label_file, num_classes=60, transform=transforms.ToTensor())\n"
   ]
  },
  {
   "cell_type": "code",
   "execution_count": 161,
   "metadata": {},
   "outputs": [],
   "source": [
    "all_images = []\n",
    "all_labels = []\n",
    "for img, label in dataset:\n",
    "    all_images.append(img.numpy().flatten())  # Flatten 256x256 image to 1D array\n",
    "    all_labels.append(torch.argmax(label).item()) \n",
    "\n",
    "all_images = np.array(all_images)\n",
    "all_labels = np.array(all_labels)\n",
    "\n",
    "X_train, X_val, y_train, y_val = train_test_split(all_images, all_labels, test_size=0.2, random_state=42)\n"
   ]
  },
  {
   "cell_type": "code",
   "execution_count": 162,
   "metadata": {},
   "outputs": [],
   "source": [
    "pca = PCA(n_components=100)  # Reduce to 100 principal components\n",
    "X_train_pca = pca.fit_transform(X_train)\n",
    "X_val_pca = pca.transform(X_val)\n",
    "\n",
    "# Convert to PyTorch tensors\n",
    "X_train_pca = torch.tensor(X_train_pca, dtype=torch.float32)\n",
    "y_train = torch.tensor(y_train, dtype=torch.long)\n",
    "X_val_pca = torch.tensor(X_val_pca, dtype=torch.float32)\n",
    "y_val = torch.tensor(y_val, dtype=torch.long)"
   ]
  },
  {
   "cell_type": "code",
   "execution_count": 163,
   "metadata": {},
   "outputs": [],
   "source": [
    "train_dataset = torch.utils.data.TensorDataset(X_train_pca, y_train)\n",
    "val_dataset = torch.utils.data.TensorDataset(X_val_pca, y_val)\n",
    "\n",
    "train_loader = DataLoader(train_dataset, batch_size=8, shuffle=True)\n",
    "val_loader = DataLoader(val_dataset, batch_size=8, shuffle=False)"
   ]
  },
  {
   "cell_type": "code",
   "execution_count": 164,
   "metadata": {},
   "outputs": [],
   "source": [
    "class ANN(nn.Module):\n",
    "    def __init__(self, input_dim, output_dim):\n",
    "        super(ANN, self).__init__()\n",
    "        self.fc1 = nn.Linear(input_dim, 128)  # Fully connected layer 1\n",
    "        self.fc2 = nn.Linear(128, 64)        # Fully connected layer 2\n",
    "        self.fc3 = nn.Linear(64, output_dim) # Output layer\n",
    "        self.relu = nn.ReLU()\n",
    "    \n",
    "    def forward(self, x):\n",
    "        x = self.relu(self.fc1(x))  # ReLU after first linear layer\n",
    "        x = self.relu(self.fc2(x))  # ReLU after second linear layer\n",
    "        x = self.fc3(x)             # No activation for the final layer\n",
    "        return x"
   ]
  },
  {
   "cell_type": "code",
   "execution_count": 175,
   "metadata": {},
   "outputs": [],
   "source": [
    "input_dim = 100  # Number of PCA components\n",
    "output_dim = len(np.unique(all_labels))  # Number of classes (60 in this case)\n",
    "model = ANN(input_dim, output_dim)\n",
    "\n",
    "# Loss and optimizer\n",
    "criterion = nn.CrossEntropyLoss()  # Multi-class classification\n",
    "optimizer = torch.optim.SGD(model.parameters(), lr=0.001, momentum = 0.9)\n"
   ]
  },
  {
   "cell_type": "code",
   "execution_count": 176,
   "metadata": {},
   "outputs": [
    {
     "name": "stdout",
     "output_type": "stream",
     "text": [
      "Epoch 1/30, Loss: 3.7261, Validation Accuracy: 17.67%\n",
      "Epoch 2/30, Loss: 2.8845, Validation Accuracy: 24.00%\n",
      "Epoch 3/30, Loss: 2.4517, Validation Accuracy: 27.83%\n",
      "Epoch 4/30, Loss: 2.1458, Validation Accuracy: 31.50%\n",
      "Epoch 5/30, Loss: 1.8636, Validation Accuracy: 30.83%\n",
      "Epoch 6/30, Loss: 1.6351, Validation Accuracy: 32.00%\n",
      "Epoch 7/30, Loss: 1.4216, Validation Accuracy: 31.83%\n",
      "Epoch 8/30, Loss: 1.2440, Validation Accuracy: 32.50%\n",
      "Epoch 9/30, Loss: 1.0796, Validation Accuracy: 33.33%\n",
      "Epoch 10/30, Loss: 0.8884, Validation Accuracy: 32.33%\n",
      "Epoch 11/30, Loss: 0.7609, Validation Accuracy: 33.00%\n",
      "Epoch 12/30, Loss: 0.6207, Validation Accuracy: 31.67%\n",
      "Epoch 13/30, Loss: 0.5064, Validation Accuracy: 35.00%\n",
      "Epoch 14/30, Loss: 0.3848, Validation Accuracy: 32.33%\n",
      "Epoch 15/30, Loss: 0.3197, Validation Accuracy: 31.83%\n",
      "Epoch 16/30, Loss: 0.2415, Validation Accuracy: 32.33%\n",
      "Epoch 17/30, Loss: 0.1747, Validation Accuracy: 32.33%\n",
      "Epoch 18/30, Loss: 0.1134, Validation Accuracy: 34.33%\n",
      "Epoch 19/30, Loss: 0.0755, Validation Accuracy: 35.17%\n",
      "Epoch 20/30, Loss: 0.0531, Validation Accuracy: 35.00%\n",
      "Epoch 21/30, Loss: 0.0459, Validation Accuracy: 35.67%\n",
      "Epoch 22/30, Loss: 0.0288, Validation Accuracy: 35.17%\n",
      "Epoch 23/30, Loss: 0.0238, Validation Accuracy: 35.83%\n",
      "Epoch 24/30, Loss: 0.0204, Validation Accuracy: 35.67%\n",
      "Epoch 25/30, Loss: 0.0181, Validation Accuracy: 35.33%\n",
      "Epoch 26/30, Loss: 0.0164, Validation Accuracy: 35.50%\n",
      "Epoch 27/30, Loss: 0.0150, Validation Accuracy: 35.67%\n",
      "Epoch 28/30, Loss: 0.0138, Validation Accuracy: 36.00%\n",
      "Epoch 29/30, Loss: 0.0127, Validation Accuracy: 35.67%\n",
      "Epoch 30/30, Loss: 0.0119, Validation Accuracy: 35.17%\n"
     ]
    }
   ],
   "source": [
    "def train(model, train_loader, val_loader, criterion, optimizer, epochs):\n",
    "    for epoch in range(epochs):\n",
    "        model.train()\n",
    "        running_loss = 0.0\n",
    "        \n",
    "        # Training\n",
    "        for inputs, labels in train_loader:\n",
    "            optimizer.zero_grad()  # Clear gradients\n",
    "            \n",
    "            outputs = model(inputs)  # Forward pass\n",
    "            loss = criterion(outputs, labels)  # Compute loss\n",
    "            loss.backward()  # Backpropagation\n",
    "            optimizer.step()  # Update weights\n",
    "            \n",
    "            running_loss += loss.item()\n",
    "        \n",
    "        # Validation\n",
    "        model.eval()\n",
    "        correct = 0\n",
    "        total = 0\n",
    "        with torch.no_grad():\n",
    "            for inputs, labels in val_loader:\n",
    "                outputs = model(inputs)\n",
    "                _, predicted = torch.max(outputs, 1)\n",
    "                total += labels.size(0)\n",
    "                correct += (predicted == labels).sum().item()\n",
    "        \n",
    "        accuracy = 100 * correct / total\n",
    "        print(f'Epoch {epoch+1}/{epochs}, Loss: {running_loss/len(train_loader):.4f}, Validation Accuracy: {accuracy:.2f}%')\n",
    "\n",
    "# Train the model\n",
    "train(model, train_loader, val_loader, criterion, optimizer, epochs=30)"
   ]
  },
  {
   "cell_type": "code",
   "execution_count": 177,
   "metadata": {},
   "outputs": [],
   "source": [
    "torch.save(model.state_dict(), \"/Users/shreyasmishra/Documents/new_model.pt\")"
   ]
  }
 ],
 "metadata": {
  "kernelspec": {
   "display_name": "cv",
   "language": "python",
   "name": "python3"
  },
  "language_info": {
   "codemirror_mode": {
    "name": "ipython",
    "version": 3
   },
   "file_extension": ".py",
   "mimetype": "text/x-python",
   "name": "python",
   "nbconvert_exporter": "python",
   "pygments_lexer": "ipython3",
   "version": "3.11.4"
  }
 },
 "nbformat": 4,
 "nbformat_minor": 2
}
